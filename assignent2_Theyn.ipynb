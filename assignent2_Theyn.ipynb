{
 "cells": [
  {
   "cell_type": "markdown",
   "id": "c85ad144",
   "metadata": {},
   "source": [
    "Howdy"
   ]
  },
  {
   "cell_type": "code",
   "execution_count": null,
   "id": "d7e0652a",
   "metadata": {},
   "outputs": [],
   "source": []
  }
 ],
 "metadata": {
  "language_info": {
   "name": "python"
  }
 },
 "nbformat": 4,
 "nbformat_minor": 5
}
