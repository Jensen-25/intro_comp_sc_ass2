{
 "cells": [
  {
   "cell_type": "markdown",
   "id": "6dc17baf",
   "metadata": {},
   "source": [
    "## Problem 2: Spatial Models - Networks ##\n",
    "\n",
    "In this question you are asked to develop a set of experiments to design and evaluate\n",
    "vaccinationstrategiesusinganetworkmodel. UsingthepackageNDLib2 youshouldassess\n",
    "the spread of a disease (SIR) across different types of model networks (Barabasi Albert,\n",
    "Watts-Strogatz, Erdos-Reyni). Finally, you will run a simulated vaccination campaign\n",
    "on a real contact network collected by sociopatterns (link). A modified version of this\n",
    "dataset can be downloaded from Canvas, the network has been converted to a static\n",
    "(non-temporal) form and some edges and nodes have been filtered out.\n"
   ]
  },
  {
   "cell_type": "markdown",
   "id": "ae8247f6",
   "metadata": {},
   "source": [
    "### Relevant graph statistics ###\n",
    "1. Erdős–Rényi (ER) network: Degree distribution, average path-length and clustering coefficient\n",
    "2. Barabási–Albert (BA) network: Degree distribution $P(k) = k^{-\\gamma}$, highest degrees, average path length\n",
    "3. Watts–Strogatz (WS) network:\n"
   ]
  },
  {
   "cell_type": "code",
   "execution_count": null,
   "id": "2a1e5d22",
   "metadata": {},
   "outputs": [],
   "source": [
    "def model_configurator(model_type, beta, gamma, infected_initial):\n",
    "    model = ep.SIRModel(model_type)\n",
    "\n",
    "    # configuration of model parameters\n",
    "    config = mc.Configuration()\n",
    "    config.add_model_parameter('beta', beta)\n",
    "    config.add_model_parameter('gamma', gamma)\n",
    "    config.add_model_parameter(\"fraction_infected\", infected_initial)\n",
    "\n",
    "    # provide initial status \n",
    "    model.set_initial_status(config)\n",
    "\n",
    "    # execution_number = number of runs\n",
    "    # iteration_number = number of timestamps\n",
    "    # infection_sets = node list with initial infected nodes\n",
    "    # nprocesses = cpu parameters\n",
    "    trends = multi_runs(model, execution_number=10, iteration_number=200, infection_sets=None, nprocesses=4)\n",
    "    return model, trends"
   ]
  },
  {
   "cell_type": "code",
   "execution_count": null,
   "id": "dc1a3652",
   "metadata": {},
   "outputs": [],
   "source": [
    "# create datastructure to store different models\n",
    "erdos_models = []\n",
    "\n",
    "# create the 3 distinct models\n",
    "erdos_parameters = [0.1, 0.2, 0.25, 0.5, 0.75, 1.0]\n",
    "\n",
    "for i in range(len(erdos_parameters)):\n",
    "    erdos = nx.erdos_renyi_graph(100, erdos_parameters[i])\n",
    "    erdos_models.append(erdos)\n",
    "\n",
    "# plot the models \n",
    "for model_type in erdos_models:\n",
    "    model, trends = model_configurator(model_type, 0.001, 0.01, 0.05)\n",
    "    viz = DiffusionTrend(model, trends)\n",
    "    viz.plot()\n",
    "   "
   ]
  },
  {
   "cell_type": "code",
   "execution_count": null,
   "id": "17bd4ef0",
   "metadata": {},
   "outputs": [],
   "source": [
    "def compute_network_statistics(G):\n",
    "    # Degrees\n",
    "    all_degrees = [d for _, d in G.degree()]\n",
    "    mean_degree = float(np.mean(all_degrees))\n",
    "    \n",
    "    # Average clustering coefficient\n",
    "    clustering = nx.average_clustering(G)\n",
    "    \n",
    "    # Degree centrality (average)\n",
    "    degree_centrality = nx.degree_centrality(G)\n",
    "    avg_degree_centrality = float(np.mean(list(degree_centrality.values())))\n",
    "    \n",
    "    # Betweenness centrality (average)\n",
    "    betweenness_centrality = nx.betweenness_centrality(G)\n",
    "    avg_betweenness_centrality = float(np.mean(list(betweenness_centrality.values())))\n",
    "    \n",
    "    # Network density\n",
    "    density = nx.density(G)\n",
    "    \n",
    "    # Return only network-level (average) statistics\n",
    "    return {\n",
    "        'mean degree': mean_degree,\n",
    "        'average clustering coefficient': clustering,\n",
    "        'average degree centrality': avg_degree_centrality,\n",
    "        'average betweenness centrality': avg_betweenness_centrality,\n",
    "        'network density': density\n",
    "    }"
   ]
  },
  {
   "cell_type": "code",
   "execution_count": null,
   "id": "85b262b7",
   "metadata": {},
   "outputs": [],
   "source": [
    "for network in erdos_models:\n",
    "    print(compute_network_statistics(network))\n"
   ]
  },
  {
   "cell_type": "code",
   "execution_count": null,
   "id": "618e8a05",
   "metadata": {},
   "outputs": [],
   "source": [
    "barabasi = nx.barabasi_albert_graph(1000,20,initial_graph=None)\n",
    "networks.append(barabasi)\n",
    "\n",
    "watts_strogratz = nx.watts_strogatz_graph(1000, 50, 0.1)\n",
    "networks.append(watts_strogratz)\n"
   ]
  }
 ],
 "metadata": {
  "kernelspec": {
   "display_name": "comp_sci_env",
   "language": "python",
   "name": "python3"
  },
  "language_info": {
   "name": "python",
   "version": "3.11.13"
  }
 },
 "nbformat": 4,
 "nbformat_minor": 5
}
