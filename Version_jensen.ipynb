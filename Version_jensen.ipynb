{
 "cells": [
  {
   "cell_type": "markdown",
   "id": "5d7de697",
   "metadata": {},
   "source": [
    "Hello this is Jensen's branch"
   ]
  },
  {
   "cell_type": "code",
   "execution_count": 3,
   "id": "1e4f41d7",
   "metadata": {},
   "outputs": [
    {
     "name": "stdout",
     "output_type": "stream",
     "text": [
      "Requirement already satisfied: numpy in /opt/anaconda3/envs/comp_sci_env/lib/python3.11/site-packages (2.3.1)\n",
      "zsh:1: command not found: random\n",
      "zsh:1: command not found: matplotlib\n",
      "zsh:1: command not found: scipy\n"
     ]
    }
   ],
   "source": [
    "!pip install numpy; random; matplotlib; scipy"
   ]
  },
  {
   "cell_type": "code",
   "execution_count": 4,
   "id": "8edc653a",
   "metadata": {},
   "outputs": [],
   "source": [
    "import numpy as np\n",
    "import random\n",
    "import matplotlib.pyplot as plt\n",
    "from scipy.integrate import odeint"
   ]
  },
  {
   "cell_type": "code",
   "execution_count": 5,
   "id": "ebd758eb",
   "metadata": {},
   "outputs": [],
   "source": [
    "def gillespie(initial, beta, gamma, mu, max_time, rng):\n",
    "    S, I, R = initial\n",
    "\n",
    "    # initialize\n",
    "    SIR_states = [[S, I, R]]\n",
    "    timestamps = [0.0]\n",
    "\n",
    "    # event updates\n",
    "    events = np.array([\n",
    "        [ 1,  0,  0],   # Birth\n",
    "        [-1, +1,  0],   # Infection\n",
    "        [ 0, -1, +1],   # Recovery\n",
    "        [-1,  0,  0],   # Death S\n",
    "        [ 0, -1,  0],   # Death I\n",
    "        [ 0,  0, -1]    # Death R\n",
    "    ])\n",
    "\n",
    "    while timestamps[-1] < max_time and (S+I+R) > 0:\n",
    "        N = S + I + R\n",
    "\n",
    "        # propensities (rates)\n",
    "        event_rates = np.array([\n",
    "            mu * N,\n",
    "            beta * S*I/N if N > 0 else 0,\n",
    "            gamma * I,\n",
    "            mu * S,\n",
    "            mu * I,\n",
    "            mu * R\n",
    "        ])\n",
    "\n",
    "        # random numbers for each event\n",
    "        U = rng.random(len(event_rates))\n",
    "\n",
    "        # waiting times\n",
    "        dt_list = np.where(event_rates > 0, -np.log(U) / event_rates, np.inf)\n",
    "\n",
    "        # next event\n",
    "        dt_min = np.min(dt_list)\n",
    "        if dt_min == np.inf:\n",
    "            break\n",
    "        event = np.argmin(dt_list)\n",
    "\n",
    "        # update time\n",
    "        timestamps.append(timestamps[-1] + dt_min)\n",
    "\n",
    "        # update state\n",
    "        dS, dI, dR = events[event]\n",
    "        S, I, R = max(0, S+dS), max(0, I+dI), max(0, R+dR)\n",
    "\n",
    "        SIR_states.append([S,I,R])\n",
    "\n",
    "    return np.array(timestamps), np.array(SIR_states)"
   ]
  },
  {
   "cell_type": "code",
   "execution_count": 6,
   "id": "8e476473",
   "metadata": {},
   "outputs": [],
   "source": [
    "def SIR_demography(y, t, N, beta, gamma, mu):\n",
    "    '''SIR model with demography'''\n",
    "    \n",
    "    dSdt = mu - beta*y[0]*y[1] - mu*y[0]\n",
    "    dIdt = beta*y[0]*y[1] - gamma*y[1] - mu*y[1]\n",
    "    dRdt = gamma*y[1] - mu*y[2]\n",
    "    \n",
    "    return [dSdt, dIdt, dRdt]"
   ]
  },
  {
   "cell_type": "code",
   "execution_count": 8,
   "id": "41e85ee9",
   "metadata": {},
   "outputs": [
    {
     "ename": "TypeError",
     "evalue": "'<' not supported between instances of 'float' and 'list'",
     "output_type": "error",
     "traceback": [
      "\u001b[31m---------------------------------------------------------------------------\u001b[39m",
      "\u001b[31mTypeError\u001b[39m                                 Traceback (most recent call last)",
      "\u001b[36mCell\u001b[39m\u001b[36m \u001b[39m\u001b[32mIn[8]\u001b[39m\u001b[32m, line 18\u001b[39m\n\u001b[32m     15\u001b[39m event_rates = [mu, beta, gamma, mu, mu, mu]\n\u001b[32m     17\u001b[39m \u001b[38;5;66;03m# Run gillepsie algorithm\u001b[39;00m\n\u001b[32m---> \u001b[39m\u001b[32m18\u001b[39m time, values = gillespie(initial, beta, gamma, mu, event_rates, \u001b[32m100\u001b[39m)\n\u001b[32m     20\u001b[39m \u001b[38;5;66;03m# Gather values over time for each compartment\u001b[39;00m\n\u001b[32m     21\u001b[39m susceptible = [event[\u001b[32m0\u001b[39m] \u001b[38;5;28;01mfor\u001b[39;00m event \u001b[38;5;129;01min\u001b[39;00m values]\n",
      "\u001b[36mCell\u001b[39m\u001b[36m \u001b[39m\u001b[32mIn[5]\u001b[39m\u001b[32m, line 18\u001b[39m, in \u001b[36mgillespie\u001b[39m\u001b[34m(initial, beta, gamma, mu, max_time, rng)\u001b[39m\n\u001b[32m      8\u001b[39m \u001b[38;5;66;03m# event updates\u001b[39;00m\n\u001b[32m      9\u001b[39m events = np.array([\n\u001b[32m     10\u001b[39m     [ \u001b[32m1\u001b[39m,  \u001b[32m0\u001b[39m,  \u001b[32m0\u001b[39m],   \u001b[38;5;66;03m# Birth\u001b[39;00m\n\u001b[32m     11\u001b[39m     [-\u001b[32m1\u001b[39m, +\u001b[32m1\u001b[39m,  \u001b[32m0\u001b[39m],   \u001b[38;5;66;03m# Infection\u001b[39;00m\n\u001b[32m   (...)\u001b[39m\u001b[32m     15\u001b[39m     [ \u001b[32m0\u001b[39m,  \u001b[32m0\u001b[39m, -\u001b[32m1\u001b[39m]    \u001b[38;5;66;03m# Death R\u001b[39;00m\n\u001b[32m     16\u001b[39m ])\n\u001b[32m---> \u001b[39m\u001b[32m18\u001b[39m \u001b[38;5;28;01mwhile\u001b[39;00m timestamps[-\u001b[32m1\u001b[39m] < max_time \u001b[38;5;129;01mand\u001b[39;00m (S+I+R) > \u001b[32m0\u001b[39m:\n\u001b[32m     19\u001b[39m     N = S + I + R\n\u001b[32m     21\u001b[39m     \u001b[38;5;66;03m# propensities (rates)\u001b[39;00m\n",
      "\u001b[31mTypeError\u001b[39m: '<' not supported between instances of 'float' and 'list'"
     ]
    }
   ],
   "source": [
    "# Define population parameters\n",
    "N = 10000\n",
    "I0 = 10\n",
    "\n",
    "# Define model parameters\n",
    "beta = 1/2\n",
    "gamma = 1/7\n",
    "mu = 0.02\n",
    "\n",
    "# Duration of simulation\n",
    "days = 100\n",
    "\n",
    "# Parameters for gillepsie algorithm\n",
    "initial = [N-I0, I0, 0]\n",
    "event_rates = [mu, beta, gamma, mu, mu, mu]\n",
    "\n",
    "# Run gillepsie algorithm\n",
    "time, values = gillespie(initial, beta, gamma, mu, event_rates, 100)\n",
    "\n",
    "# Gather values over time for each compartment\n",
    "susceptible = [event[0] for event in values]\n",
    "infected = [event[1] for event in values]\n",
    "recovered = [event[2] for event in values]\n",
    "\n",
    "# Inital parameters deterministic model\n",
    "y0 = [(N-I0)/N, I0/N, 0]\n",
    "\n",
    "# Determine timesteps and resolution\n",
    "t = np.linspace(0, days, 1001)\n",
    "\n",
    "# Get deteministic solution\n",
    "solution = odeint(SIR_demography, y0, t, args=(N, beta, gamma, mu))\n",
    "\n",
    "# Plot data\n",
    "fig = plt.figure(figsize=(5,4))\n",
    "\n",
    "# Plot deteministic model\n",
    "plt.plot(t, solution[:,0] * 10000,'b--', alpha=0.5)\n",
    "plt.plot(t, solution[:,1] * 10000,'r--', alpha=0.5)\n",
    "plt.plot(t, solution[:,2] * 10000,'g--', alpha=0.5)\n",
    "\n",
    "# Plot gillepsie model\n",
    "plt.plot(time, susceptible, 'b-', label=r'Susceptible')\n",
    "plt.plot(time, infected, 'r-', label=r'Infected')\n",
    "plt.plot(time, recovered, 'g-', label=r'Recovered')\n",
    "\n",
    "plt.ylabel('Individuals')\n",
    "plt.xlabel('Time (days)')\n",
    "plt.legend(loc='best')\n",
    "plt.show()"
   ]
  }
 ],
 "metadata": {
  "kernelspec": {
   "display_name": "comp_sci_env",
   "language": "python",
   "name": "python3"
  },
  "language_info": {
   "codemirror_mode": {
    "name": "ipython",
    "version": 3
   },
   "file_extension": ".py",
   "mimetype": "text/x-python",
   "name": "python",
   "nbconvert_exporter": "python",
   "pygments_lexer": "ipython3",
   "version": "3.11.13"
  }
 },
 "nbformat": 4,
 "nbformat_minor": 5
}
